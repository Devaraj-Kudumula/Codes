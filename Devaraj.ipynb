{
 "cells": [
  {
   "cell_type": "code",
   "execution_count": 3,
   "id": "cfcf1fbb",
   "metadata": {},
   "outputs": [],
   "source": [
    "def create_total_expence(mon,tues,wed,thurs,fri,satur,sun):\n",
    "    days = ['Monday', 'Tuesday', 'Wednesday','Thursday','Friday','Saturday','Sunday']\n",
    "    cost = [mon,tues,wed,thurs,fri,satur,sun]\n",
    "    total_expence = {}\n",
    "    for i in range(len(days)):\n",
    "        total_expence[days[i]] = cost[i] \n",
    "    return total_expence"
   ]
  },
  {
   "cell_type": "code",
   "execution_count": 57,
   "id": "ac45dec3",
   "metadata": {},
   "outputs": [],
   "source": [
    "TOI = create_total_expence(3,3,3,3,3,5,6)\n",
    "Hindu = create_total_expence(2.5,2.5,2.5,2.5,2.5,4,4)\n",
    "ET = create_total_expence(4,4,4,4,4,4,10)\n",
    "BM = create_total_expence(1.5,1.5,1.5,1.5,1.5,1.5,1.5)\n",
    "HT = create_total_expence(2,2,2,2,2,4,4)\n",
    "\n",
    "table = [TOI,Hindu,ET,BM,HT]\n",
    "names = [\"TOI\",\"Hindu\",\"ET\",\"BM\",\"HT\"]"
   ]
  },
  {
   "cell_type": "code",
   "execution_count": 58,
   "id": "c5986904",
   "metadata": {},
   "outputs": [],
   "source": [
    "def get_total(table,names):\n",
    "    value = {}\n",
    "    for i in range(len(table)):\n",
    "        val = 0\n",
    "        for j in table[i]:\n",
    "            val += table[i][j]\n",
    "        value[names[i]] = val\n",
    "    return value"
   ]
  },
  {
   "cell_type": "code",
   "execution_count": 59,
   "id": "13334b67",
   "metadata": {},
   "outputs": [],
   "source": [
    "total = get_total(table,names)"
   ]
  },
  {
   "cell_type": "code",
   "execution_count": 88,
   "id": "576da609",
   "metadata": {},
   "outputs": [],
   "source": [
    "def budget(value):\n",
    "    keys = list(total.keys())\n",
    "    values = list(total.values())\n",
    "    arr = []\n",
    "    for i in range(len(names)):\n",
    "        for j in range(i+1,len(names)):\n",
    "            print(names[i],names[j])\n",
    "            if total[names[i]] + total[names[j]] <= value:\n",
    "                arr.append([keys[values.index(total[names[i]])],keys[values.index(total[names[j]])]])\n",
    "    return arr"
   ]
  },
  {
   "cell_type": "code",
   "execution_count": 91,
   "id": "7f7ed334",
   "metadata": {},
   "outputs": [
    {
     "name": "stdout",
     "output_type": "stream",
     "text": [
      "TOI Hindu\n",
      "TOI ET\n",
      "TOI BM\n",
      "TOI HT\n",
      "Hindu ET\n",
      "Hindu BM\n",
      "Hindu HT\n",
      "ET BM\n",
      "ET HT\n",
      "BM HT\n"
     ]
    },
    {
     "data": {
      "text/plain": [
       "[['Hindu', 'BM'], ['BM', 'HT']]"
      ]
     },
     "execution_count": 91,
     "metadata": {},
     "output_type": "execute_result"
    }
   ],
   "source": [
    "budget(35)"
   ]
  }
 ],
 "metadata": {
  "kernelspec": {
   "display_name": "Python 3",
   "language": "python",
   "name": "python3"
  },
  "language_info": {
   "codemirror_mode": {
    "name": "ipython",
    "version": 3
   },
   "file_extension": ".py",
   "mimetype": "text/x-python",
   "name": "python",
   "nbconvert_exporter": "python",
   "pygments_lexer": "ipython3",
   "version": "3.9.5"
  }
 },
 "nbformat": 4,
 "nbformat_minor": 5
}
